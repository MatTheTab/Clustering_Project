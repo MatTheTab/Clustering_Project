{
 "cells": [
  {
   "cell_type": "code",
   "execution_count": null,
   "metadata": {},
   "outputs": [],
   "source": [
    "import pandas as pd\n",
    "import yaml\n",
    "import random\n",
    "import sys\n",
    "import pickle\n",
    "\n",
    "from pathlib import Path\n",
    "from mpl_toolkits.mplot3d import Axes3D\n",
    "\n",
    "from sklearn.cluster import KMeans\n",
    "\n",
    "params = yaml.safe_load(open('../params.yaml'))['train1']\n",
    "random.seed(params['seed'])"
   ]
  },
  {
   "cell_type": "code",
   "execution_count": null,
   "metadata": {},
   "outputs": [],
   "source": [
    "# input_file = Path(sys.argv[1])\n",
    "input_file = '../data/prepared/minmax_data.csv'\n",
    "output_dir = sys.argv[2]\n",
    "Path(output_dir).mkdir(exist_ok=True)\n",
    "\n",
    "train_output = Path(output_dir) / 'train.p'\n",
    "\n",
    "df = pd.read_csv(input_file, sep=',', index_col=\"id\")\n",
    "cols = df.columns\n",
    "df.head()"
   ]
  }
 ],
 "metadata": {
  "kernelspec": {
   "display_name": "base",
   "language": "python",
   "name": "python3"
  },
  "language_info": {
   "name": "python",
   "version": "3.11.0"
  },
  "orig_nbformat": 4
 },
 "nbformat": 4,
 "nbformat_minor": 2
}
