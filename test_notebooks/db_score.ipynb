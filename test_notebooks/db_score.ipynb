{
 "cells": [
  {
   "cell_type": "code",
   "execution_count": 9,
   "metadata": {},
   "outputs": [],
   "source": [
    "import pandas as pd\n",
    "import yaml\n",
    "import random\n",
    "import sys\n",
    "import matplotlib.pyplot as plt\n",
    "\n",
    "from pathlib import Path\n",
    "from tqdm.notebook import tqdm\n",
    "\n",
    "from sklearn.cluster import KMeans\n",
    "from sklearn.metrics import davies_bouldin_score\n",
    "\n",
    "params = yaml.safe_load(open('../params.yaml'))['davies_bouldin']\n",
    "random.seed(params['seed'])"
   ]
  },
  {
   "cell_type": "code",
   "execution_count": 10,
   "metadata": {},
   "outputs": [
    {
     "data": {
      "text/html": [
       "<div>\n",
       "<style scoped>\n",
       "    .dataframe tbody tr th:only-of-type {\n",
       "        vertical-align: middle;\n",
       "    }\n",
       "\n",
       "    .dataframe tbody tr th {\n",
       "        vertical-align: top;\n",
       "    }\n",
       "\n",
       "    .dataframe thead th {\n",
       "        text-align: right;\n",
       "    }\n",
       "</style>\n",
       "<table border=\"1\" class=\"dataframe\">\n",
       "  <thead>\n",
       "    <tr style=\"text-align: right;\">\n",
       "      <th></th>\n",
       "      <th>f_00</th>\n",
       "      <th>f_01</th>\n",
       "      <th>f_02</th>\n",
       "      <th>f_03</th>\n",
       "      <th>f_04</th>\n",
       "      <th>f_05</th>\n",
       "      <th>f_06</th>\n",
       "      <th>f_07</th>\n",
       "      <th>f_08</th>\n",
       "      <th>f_09</th>\n",
       "      <th>...</th>\n",
       "      <th>f_19</th>\n",
       "      <th>f_20</th>\n",
       "      <th>f_21</th>\n",
       "      <th>f_22</th>\n",
       "      <th>f_23</th>\n",
       "      <th>f_24</th>\n",
       "      <th>f_25</th>\n",
       "      <th>f_26</th>\n",
       "      <th>f_27</th>\n",
       "      <th>f_28</th>\n",
       "    </tr>\n",
       "  </thead>\n",
       "  <tbody>\n",
       "    <tr>\n",
       "      <th>0</th>\n",
       "      <td>0.470880</td>\n",
       "      <td>0.385799</td>\n",
       "      <td>0.562361</td>\n",
       "      <td>0.546940</td>\n",
       "      <td>0.431504</td>\n",
       "      <td>0.558689</td>\n",
       "      <td>0.804339</td>\n",
       "      <td>0.06250</td>\n",
       "      <td>0.433333</td>\n",
       "      <td>0.318182</td>\n",
       "      <td>...</td>\n",
       "      <td>0.467078</td>\n",
       "      <td>0.435327</td>\n",
       "      <td>0.428585</td>\n",
       "      <td>0.431881</td>\n",
       "      <td>0.656229</td>\n",
       "      <td>0.450930</td>\n",
       "      <td>0.546854</td>\n",
       "      <td>0.603894</td>\n",
       "      <td>0.605064</td>\n",
       "      <td>0.557570</td>\n",
       "    </tr>\n",
       "    <tr>\n",
       "      <th>1</th>\n",
       "      <td>0.438371</td>\n",
       "      <td>0.439604</td>\n",
       "      <td>0.562946</td>\n",
       "      <td>0.595238</td>\n",
       "      <td>0.335748</td>\n",
       "      <td>0.573136</td>\n",
       "      <td>0.540179</td>\n",
       "      <td>0.06250</td>\n",
       "      <td>0.100000</td>\n",
       "      <td>0.136364</td>\n",
       "      <td>...</td>\n",
       "      <td>0.472326</td>\n",
       "      <td>0.508380</td>\n",
       "      <td>0.309548</td>\n",
       "      <td>0.450616</td>\n",
       "      <td>0.608434</td>\n",
       "      <td>0.623499</td>\n",
       "      <td>0.446892</td>\n",
       "      <td>0.453613</td>\n",
       "      <td>0.543135</td>\n",
       "      <td>0.306763</td>\n",
       "    </tr>\n",
       "    <tr>\n",
       "      <th>2</th>\n",
       "      <td>0.600831</td>\n",
       "      <td>0.530897</td>\n",
       "      <td>0.358769</td>\n",
       "      <td>0.402646</td>\n",
       "      <td>0.540544</td>\n",
       "      <td>0.564273</td>\n",
       "      <td>0.773949</td>\n",
       "      <td>0.15625</td>\n",
       "      <td>0.366667</td>\n",
       "      <td>0.113636</td>\n",
       "      <td>...</td>\n",
       "      <td>0.473940</td>\n",
       "      <td>0.342750</td>\n",
       "      <td>0.656568</td>\n",
       "      <td>0.757268</td>\n",
       "      <td>0.570082</td>\n",
       "      <td>0.367093</td>\n",
       "      <td>0.397413</td>\n",
       "      <td>0.605750</td>\n",
       "      <td>0.428078</td>\n",
       "      <td>0.238558</td>\n",
       "    </tr>\n",
       "    <tr>\n",
       "      <th>3</th>\n",
       "      <td>0.458790</td>\n",
       "      <td>0.519696</td>\n",
       "      <td>0.519301</td>\n",
       "      <td>0.504429</td>\n",
       "      <td>0.576596</td>\n",
       "      <td>0.341746</td>\n",
       "      <td>0.565985</td>\n",
       "      <td>0.18750</td>\n",
       "      <td>0.066667</td>\n",
       "      <td>0.295455</td>\n",
       "      <td>...</td>\n",
       "      <td>0.583177</td>\n",
       "      <td>0.659253</td>\n",
       "      <td>0.579803</td>\n",
       "      <td>0.590711</td>\n",
       "      <td>0.433370</td>\n",
       "      <td>0.602681</td>\n",
       "      <td>0.331975</td>\n",
       "      <td>0.469007</td>\n",
       "      <td>0.500973</td>\n",
       "      <td>0.516282</td>\n",
       "    </tr>\n",
       "    <tr>\n",
       "      <th>4</th>\n",
       "      <td>0.440320</td>\n",
       "      <td>0.370937</td>\n",
       "      <td>0.459521</td>\n",
       "      <td>0.259276</td>\n",
       "      <td>0.494476</td>\n",
       "      <td>0.271661</td>\n",
       "      <td>0.638294</td>\n",
       "      <td>0.25000</td>\n",
       "      <td>0.233333</td>\n",
       "      <td>0.113636</td>\n",
       "      <td>...</td>\n",
       "      <td>0.345402</td>\n",
       "      <td>0.470595</td>\n",
       "      <td>0.555270</td>\n",
       "      <td>0.534534</td>\n",
       "      <td>0.405619</td>\n",
       "      <td>0.604864</td>\n",
       "      <td>0.392484</td>\n",
       "      <td>0.624310</td>\n",
       "      <td>0.476586</td>\n",
       "      <td>0.356527</td>\n",
       "    </tr>\n",
       "  </tbody>\n",
       "</table>\n",
       "<p>5 rows × 29 columns</p>\n",
       "</div>"
      ],
      "text/plain": [
       "       f_00      f_01      f_02      f_03      f_04      f_05      f_06  \\\n",
       "0  0.470880  0.385799  0.562361  0.546940  0.431504  0.558689  0.804339   \n",
       "1  0.438371  0.439604  0.562946  0.595238  0.335748  0.573136  0.540179   \n",
       "2  0.600831  0.530897  0.358769  0.402646  0.540544  0.564273  0.773949   \n",
       "3  0.458790  0.519696  0.519301  0.504429  0.576596  0.341746  0.565985   \n",
       "4  0.440320  0.370937  0.459521  0.259276  0.494476  0.271661  0.638294   \n",
       "\n",
       "      f_07      f_08      f_09  ...      f_19      f_20      f_21      f_22  \\\n",
       "0  0.06250  0.433333  0.318182  ...  0.467078  0.435327  0.428585  0.431881   \n",
       "1  0.06250  0.100000  0.136364  ...  0.472326  0.508380  0.309548  0.450616   \n",
       "2  0.15625  0.366667  0.113636  ...  0.473940  0.342750  0.656568  0.757268   \n",
       "3  0.18750  0.066667  0.295455  ...  0.583177  0.659253  0.579803  0.590711   \n",
       "4  0.25000  0.233333  0.113636  ...  0.345402  0.470595  0.555270  0.534534   \n",
       "\n",
       "       f_23      f_24      f_25      f_26      f_27      f_28  \n",
       "0  0.656229  0.450930  0.546854  0.603894  0.605064  0.557570  \n",
       "1  0.608434  0.623499  0.446892  0.453613  0.543135  0.306763  \n",
       "2  0.570082  0.367093  0.397413  0.605750  0.428078  0.238558  \n",
       "3  0.433370  0.602681  0.331975  0.469007  0.500973  0.516282  \n",
       "4  0.405619  0.604864  0.392484  0.624310  0.476586  0.356527  \n",
       "\n",
       "[5 rows x 29 columns]"
      ]
     },
     "execution_count": 10,
     "metadata": {},
     "output_type": "execute_result"
    }
   ],
   "source": [
    "# input_file = Path(sys.argv[1])\n",
    "input_file = '../data/prepared/minmax_data.csv'\n",
    "output_file = '../data/prepared/db_score.txt'\n",
    "\n",
    "Path('../data/prepared').mkdir(parents=True, exist_ok=True)\n",
    "\n",
    "df = pd.read_csv(input_file, sep=',', index_col=None)\n",
    "\n",
    "if df.columns[0] == \"id\":\n",
    "    df=df.drop(\"id\", axis=1)\n",
    "if df.columns[0] == \"Unnamed: 0\":\n",
    "    df=df.drop(\"Unnamed: 0\", axis=1)\n",
    "\n",
    "cols = df.columns\n",
    "\n",
    "df.head()"
   ]
  },
  {
   "cell_type": "code",
   "execution_count": 11,
   "metadata": {},
   "outputs": [
    {
     "data": {
      "application/vnd.jupyter.widget-view+json": {
       "model_id": "c7992b7feeaf4d55af847f1fe15adb21",
       "version_major": 2,
       "version_minor": 0
      },
      "text/plain": [
       "  0%|          | 0/13 [00:00<?, ?it/s]"
      ]
     },
     "metadata": {},
     "output_type": "display_data"
    },
    {
     "data": {
      "text/plain": [
       "[<matplotlib.lines.Line2D at 0x1c3891abe50>]"
      ]
     },
     "execution_count": 11,
     "metadata": {},
     "output_type": "execute_result"
    },
    {
     "data": {
      "image/png": "[encoded data removed]",
      "text/plain": [
       "<Figure size 1000x500 with 1 Axes>"
      ]
     },
     "metadata": {},
     "output_type": "display_data"
    }
   ],
   "source": [
    "k_range = range(params[\"range_x\"], params[\"range_y\"])\n",
    "\n",
    "scores = []\n",
    "\n",
    "for k in tqdm(k_range):\n",
    "    kmeans = KMeans(n_clusters=k)\n",
    "    labels = kmeans.fit_predict(df)\n",
    "    score = davies_bouldin_score(df, labels)\n",
    "    scores.append((k, score))   \n",
    "\n",
    "ax_x, ax_y = zip(*scores)\n",
    "\n",
    "fig = plt.figure(figsize=(10,5))\n",
    "ax = plt.axes()\n",
    "plt.xticks(k_range)\n",
    "plt.grid()\n",
    "plt.plot(ax_x, ax_y)"
   ]
  },
  {
   "cell_type": "code",
   "execution_count": 17,
   "metadata": {},
   "outputs": [
    {
     "data": {
      "text/plain": [
       "5"
      ]
     },
     "execution_count": 17,
     "metadata": {},
     "output_type": "execute_result"
    }
   ],
   "source": [
    "best_score = min(scores, key=lambda x: x[1])[0]\n",
    "best_score"
   ]
  },
  {
   "cell_type": "code",
   "execution_count": 20,
   "metadata": {},
   "outputs": [],
   "source": [
    "with open(output_file, 'w') as of:\n",
    "    of.write(str(best_score))"
   ]
  }
 ],
 "metadata": {
  "kernelspec": {
   "display_name": "Python 3",
   "language": "python",
   "name": "python3"
  },
  "language_info": {
   "codemirror_mode": {
    "name": "ipython",
    "version": 3
   },
   "file_extension": ".py",
   "mimetype": "text/x-python",
   "name": "python",
   "nbconvert_exporter": "python",
   "pygments_lexer": "ipython3",
   "version": "3.11.0"
  },
  "orig_nbformat": 4
 },
 "nbformat": 4,
 "nbformat_minor": 2
}
